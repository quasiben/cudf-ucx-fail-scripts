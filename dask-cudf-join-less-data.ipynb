{
 "cells": [
  {
   "cell_type": "markdown",
   "metadata": {},
   "source": [
    "# Dask Dataframe with cuDF joins\n",
    "\n",
    "This shows using Dask DataFrame with cuDF on an eight-GPU machine.\n",
    "\n",
    "This makes three points:\n",
    "\n",
    "1.  Joins work\n",
    "2.  They're slow due to communication\n",
    "3.  Agnostic Pandas/cuDF workflows provide usability gains"
   ]
  },
  {
   "cell_type": "markdown",
   "metadata": {},
   "source": [
    "## Use a DGX"
   ]
  },
  {
   "cell_type": "code",
   "execution_count": null,
   "metadata": {},
   "outputs": [],
   "source": [
    "import dask\n",
    "import distributed\n",
    "import cudf\n",
    "import os"
   ]
  },
  {
   "cell_type": "code",
   "execution_count": null,
   "metadata": {},
   "outputs": [],
   "source": [
    "print(f'Dask: {dask.__file__}')\n",
    "print(f'Distributed: {distributed.__file__}')\n",
    "print(f'cuDF: {cudf.__file__}')"
   ]
  },
  {
   "cell_type": "code",
   "execution_count": null,
   "metadata": {},
   "outputs": [],
   "source": [
    "base_env = {\n",
    "    \"UCX_RNDV_SCHEME\": \"put_zcopy\",\n",
    "    \"UCX_MEMTYPE_CACHE\": \"n\",\n",
    "    \"UCX_TLS\": \"rc,cuda_copy\",\n",
    "    \"CUDA_VISIBLE_DEVICES\": \"0,1,2,3\",\n",
    "}\n",
    "os.environ.update(base_env)"
   ]
  },
  {
   "cell_type": "code",
   "execution_count": null,
   "metadata": {},
   "outputs": [],
   "source": [
    "from dask.distributed import Client, wait\n",
    "from dask_cuda import DGX\n",
    "\n",
    "cluster = DGX(CUDA_VISIBLE_DEVICES=[0, 1, 2, 3], \n",
    "              dashboard_address='10.33.227.165:8789')\n",
    "client = Client(cluster)\n",
    "# client = Client('ucx://10.33.225.165:42841')\n",
    "client"
   ]
  },
  {
   "cell_type": "markdown",
   "metadata": {},
   "source": [
    "## Create Random Dataset"
   ]
  },
  {
   "cell_type": "code",
   "execution_count": null,
   "metadata": {},
   "outputs": [],
   "source": [
    "import dask.array as da\n",
    "import dask.dataframe as dd\n",
    "\n",
    "n_rows = 500000000\n",
    "n_keys = 5000000\n",
    "\n",
    "left = dd.concat([\n",
    "    da.random.random(n_rows).to_dask_dataframe(columns='x'),\n",
    "    da.random.randint(0, n_keys, size=n_rows).to_dask_dataframe(columns='id'),\n",
    "], axis=1).persist()\n",
    "left"
   ]
  },
  {
   "cell_type": "code",
   "execution_count": null,
   "metadata": {},
   "outputs": [],
   "source": [
    "left.npartitions"
   ]
  },
  {
   "cell_type": "code",
   "execution_count": null,
   "metadata": {},
   "outputs": [],
   "source": [
    "n_rows = 50000000\n",
    "\n",
    "right = dd.concat([\n",
    "    da.random.random(n_rows).to_dask_dataframe(columns='y'),\n",
    "    da.random.randint(0, n_keys, size=n_rows).to_dask_dataframe(columns='id'),\n",
    "], axis=1).persist()\n",
    "right"
   ]
  },
  {
   "cell_type": "code",
   "execution_count": null,
   "metadata": {},
   "outputs": [],
   "source": [
    "right.npartitions"
   ]
  },
  {
   "cell_type": "markdown",
   "metadata": {},
   "source": [
    "## Convert data to GPU and persist in device memory"
   ]
  },
  {
   "cell_type": "code",
   "execution_count": null,
   "metadata": {},
   "outputs": [],
   "source": [
    "gleft = left.map_partitions(cudf.from_pandas)"
   ]
  },
  {
   "cell_type": "code",
   "execution_count": null,
   "metadata": {},
   "outputs": [],
   "source": [
    "gleft.npartitions"
   ]
  },
  {
   "cell_type": "code",
   "execution_count": null,
   "metadata": {},
   "outputs": [],
   "source": [
    "gright = right.map_partitions(cudf.from_pandas)\n",
    "gright = gright.repartition(npartitions=gleft.npartitions)\n",
    "gleft, gright = dask.persist(gleft, gright)  # persist data in device memory"
   ]
  },
  {
   "cell_type": "code",
   "execution_count": null,
   "metadata": {},
   "outputs": [],
   "source": [
    "gleft.npartitions"
   ]
  },
  {
   "cell_type": "code",
   "execution_count": null,
   "metadata": {},
   "outputs": [],
   "source": [
    "len(gleft)"
   ]
  },
  {
   "cell_type": "code",
   "execution_count": null,
   "metadata": {},
   "outputs": [],
   "source": [
    "cluster.worker_spec"
   ]
  },
  {
   "cell_type": "code",
   "execution_count": null,
   "metadata": {},
   "outputs": [],
   "source": [
    "%time gleft.x.sum().compute()"
   ]
  },
  {
   "cell_type": "code",
   "execution_count": null,
   "metadata": {},
   "outputs": [],
   "source": [
    "1+1"
   ]
  },
  {
   "cell_type": "code",
   "execution_count": null,
   "metadata": {},
   "outputs": [],
   "source": [
    "from distributed.utils import format_bytes\n",
    "format_bytes(len(gleft) * 8 * 2)  # TODO: cudf needs `.memory_usage()` method"
   ]
  },
  {
   "cell_type": "code",
   "execution_count": null,
   "metadata": {},
   "outputs": [],
   "source": [
    "format_bytes(len(gright) * 8 * 2)"
   ]
  },
  {
   "cell_type": "markdown",
   "metadata": {},
   "source": [
    "## Join on the ID column"
   ]
  },
  {
   "cell_type": "code",
   "execution_count": null,
   "metadata": {},
   "outputs": [],
   "source": [
    "out = gleft.merge(gright, on=['id'], left_index=False)  # this is lazy\n",
    "out"
   ]
  },
  {
   "cell_type": "code",
   "execution_count": null,
   "metadata": {},
   "outputs": [],
   "source": [
    "import time\n",
    "start = time.time()\n",
    "_ = client.get_task_stream(start=start,\n",
    "                           filename='dask-join-ucx-task-less-data.html')"
   ]
  },
  {
   "cell_type": "code",
   "execution_count": null,
   "metadata": {},
   "outputs": [],
   "source": [
    "out = out.persist()\n",
    "%time _ = wait(out)"
   ]
  },
  {
   "cell_type": "code",
   "execution_count": null,
   "metadata": {},
   "outputs": [],
   "source": [
    "_ = client.get_task_stream(start=start, plot='save', filename='dask-join-ucx-task.html')"
   ]
  },
  {
   "cell_type": "markdown",
   "metadata": {},
   "source": [
    "## Inspect output"
   ]
  },
  {
   "cell_type": "code",
   "execution_count": null,
   "metadata": {},
   "outputs": [],
   "source": [
    "len(out)"
   ]
  },
  {
   "cell_type": "code",
   "execution_count": null,
   "metadata": {},
   "outputs": [],
   "source": [
    "out.head().to_pandas()"
   ]
  },
  {
   "cell_type": "code",
   "execution_count": null,
   "metadata": {},
   "outputs": [],
   "source": [
    "from distributed.utils import format_bytes\n",
    "format_bytes(len(out) * 8 * 3)  # TODO: cudf needs `.memory_usage()` method"
   ]
  }
 ],
 "metadata": {
  "kernelspec": {
   "display_name": "Python [conda env:cudf-dev]",
   "language": "python",
   "name": "conda-env-cudf-dev-py"
  },
  "language_info": {
   "codemirror_mode": {
    "name": "ipython",
    "version": 3
   },
   "file_extension": ".py",
   "mimetype": "text/x-python",
   "name": "python",
   "nbconvert_exporter": "python",
   "pygments_lexer": "ipython3",
   "version": "3.7.3"
  }
 },
 "nbformat": 4,
 "nbformat_minor": 2
}
