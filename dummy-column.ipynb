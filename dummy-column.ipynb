{
 "cells": [
  {
   "cell_type": "markdown",
   "metadata": {},
   "source": [
    "# Dummy Column"
   ]
  },
  {
   "cell_type": "markdown",
   "metadata": {},
   "source": [
    "Using dask futures API to pass cuDF column and Series objects between workers. Columns work but Series do not."
   ]
  },
  {
   "cell_type": "code",
   "execution_count": 1,
   "metadata": {},
   "outputs": [],
   "source": [
    "from numba import cuda\n",
    "from distributed.protocol.cuda import cuda_serialize, cuda_deserialize\n",
    "\n",
    "class DummyColumn(object):                                                                                                                                                                                      \n",
    "                                                                                                                                                                                                                \n",
    "    def __init__(self):                                                                                                                                                                                         \n",
    "        import threading                                                                                                                                                                                        \n",
    "        self.lock = threading.Lock()                                                                                                                                                                            \n",
    "        pass                                                                                                                                                                                                    \n",
    "                                                                                                                                                                                                                \n",
    "    def serialize(self):                                                                                                                                                                                        \n",
    "        header = {}                                                                                                                                                                                             \n",
    "        frames = [cuda.to_device(np.arange(100000))]                                                                                                                                                            \n",
    "        return header, frames                                                                                                                                                                                   \n",
    "                                                                                                                                                                                                                \n",
    "    @classmethod                                                                                                                                                                                                \n",
    "    def deserialize(cls, header, frames):                                                                                                                                                                       \n",
    "        return np.array([1, 2, 3])                                                                                                                                                                              \n",
    "                                                                                                                                                                                                                \n",
    "@cuda_serialize.register(DummyColumn)                                                                                                                                                                           \n",
    "def serialize(col):                                                                                                                                                                                             \n",
    "    return col.serialize()                                                                                                                                                                                      \n",
    "                                                                                                                                                                                                                \n",
    "@cuda_deserialize.register(DummyColumn)                                                                                                                                                                         \n",
    "def deserialize(header, frames):                                                                                                                                                                                \n",
    "    return DummyColumn.deserialize(header, frames) "
   ]
  },
  {
   "cell_type": "code",
   "execution_count": 2,
   "metadata": {},
   "outputs": [],
   "source": [
    "import dask\n",
    "import distributed\n",
    "import pandas as pd\n",
    "import os\n",
    "import numpy as np"
   ]
  },
  {
   "cell_type": "code",
   "execution_count": 3,
   "metadata": {},
   "outputs": [
    {
     "name": "stdout",
     "output_type": "stream",
     "text": [
      "Dask: /home/nfs/ashwint/miniconda3/envs/cudf_dev_92/lib/python3.7/site-packages/dask/__init__.py\n",
      "Distributed: /home/nfs/ashwint/workspace/distributed/distributed/__init__.py\n"
     ]
    }
   ],
   "source": [
    "print(f'Dask: {dask.__file__}')\n",
    "print(f'Distributed: {distributed.__file__}')"
   ]
  },
  {
   "cell_type": "code",
   "execution_count": 4,
   "metadata": {},
   "outputs": [],
   "source": [
    "base_env = {\n",
    "    \"UCX_RNDV_SCHEME\": \"put_zcopy\",\n",
    "    \"UCX_MEMTYPE_CACHE\": \"n\",\n",
    "    \"UCX_TLS\": \"rc,cuda_copy,cuda_ipc\",\n",
    "    \"CUDA_VISIBLE_DEVICES\": \"2,3\",\n",
    "}\n",
    "os.environ.update(base_env)"
   ]
  },
  {
   "cell_type": "code",
   "execution_count": 5,
   "metadata": {
    "scrolled": false
   },
   "outputs": [
    {
     "data": {
      "text/html": [
       "<table style=\"border: 2px solid white;\">\n",
       "<tr>\n",
       "<td style=\"vertical-align: top; border: 0px solid white\">\n",
       "<h3 style=\"text-align: left;\">Client</h3>\n",
       "<ul style=\"text-align: left; list-style: none; margin: 0; padding: 0;\">\n",
       "  <li><b>Scheduler: </b>ucx://10.33.225.165:8786</li>\n",
       "  <li><b>Dashboard: </b><a href='http://10.33.225.165:8787/status' target='_blank'>http://10.33.225.165:8787/status</a>\n",
       "</ul>\n",
       "</td>\n",
       "<td style=\"vertical-align: top; border: 0px solid white\">\n",
       "<h3 style=\"text-align: left;\">Cluster</h3>\n",
       "<ul style=\"text-align: left; list-style:none; margin: 0; padding: 0;\">\n",
       "  <li><b>Workers: </b>2</li>\n",
       "  <li><b>Cores: </b>2</li>\n",
       "  <li><b>Memory: </b>64.00 GB</li>\n",
       "</ul>\n",
       "</td>\n",
       "</tr>\n",
       "</table>"
      ],
      "text/plain": [
       "<Client: 'ucx://10.33.225.165:8786' processes=2 threads=2, memory=64.00 GB>"
      ]
     },
     "execution_count": 5,
     "metadata": {},
     "output_type": "execute_result"
    }
   ],
   "source": [
    "from dask.distributed import Client, wait\n",
    "from dask_cuda import DGX\n",
    "\n",
    "#cluster = DGX(CUDA_VISIBLE_DEVICES=[2,3], \n",
    "#              dashboard_address='10.33.227.165:8789')\n",
    "#client = Client(cluster)\n",
    "client = Client('ucx://10.33.225.165:8786')\n",
    "client"
   ]
  },
  {
   "cell_type": "code",
   "execution_count": 6,
   "metadata": {},
   "outputs": [],
   "source": [
    "worker_1, worker_2 = client.scheduler_info()['workers']"
   ]
  },
  {
   "cell_type": "code",
   "execution_count": null,
   "metadata": {},
   "outputs": [],
   "source": [
    "from dask.distributed import wait\n",
    "import operator\n",
    "\n",
    "left = client.map(lambda x: DummyColumn(), range(1000), workers=[worker_1])\n",
    "right = client.map(lambda x: DummyColumn(), range(1000), workers=[worker_2])\n",
    "results = client.map(lambda x,y: (x,y), left, right)\n",
    "_ = wait(results)"
   ]
  },
  {
   "cell_type": "code",
   "execution_count": null,
   "metadata": {},
   "outputs": [],
   "source": []
  }
 ],
 "metadata": {
  "kernelspec": {
   "display_name": "Python 3",
   "language": "python",
   "name": "python3"
  },
  "language_info": {
   "codemirror_mode": {
    "name": "ipython",
    "version": 3
   },
   "file_extension": ".py",
   "mimetype": "text/x-python",
   "name": "python",
   "nbconvert_exporter": "python",
   "pygments_lexer": "ipython3",
   "version": "3.7.3"
  }
 },
 "nbformat": 4,
 "nbformat_minor": 2
}
