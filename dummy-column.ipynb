{
 "cells": [
  {
   "cell_type": "markdown",
   "metadata": {},
   "source": [
    "# Dummy Column"
   ]
  },
  {
   "cell_type": "markdown",
   "metadata": {},
   "source": [
    "Using dask futures API to pass cuDF column and Series objects between workers. Columns work but Series do not."
   ]
  },
  {
   "cell_type": "code",
   "execution_count": 1,
   "metadata": {},
   "outputs": [],
   "source": [
    "import os"
   ]
  },
  {
   "cell_type": "code",
   "execution_count": 2,
   "metadata": {},
   "outputs": [],
   "source": [
    "base_env = {\n",
    "    \"NOTEBOOK\": \"1\",\n",
    "    \"UCX_RNDV_SCHEME\": \"put_zcopy\",\n",
    "    \"UCX_MEMTYPE_CACHE\": \"n\",\n",
    "    \"UCX_TLS\": \"rc,cuda_copy,cuda_ipc\",\n",
    "    \"CUDA_VISIBLE_DEVICES\": \"4,5\",\n",
    "}\n",
    "os.environ.update(base_env)"
   ]
  },
  {
   "cell_type": "code",
   "execution_count": 3,
   "metadata": {},
   "outputs": [],
   "source": [
    "import dask\n",
    "import distributed"
   ]
  },
  {
   "cell_type": "code",
   "execution_count": 4,
   "metadata": {},
   "outputs": [
    {
     "name": "stdout",
     "output_type": "stream",
     "text": [
      "Dask: /home/nfs/bzaitlen/GitRepos/dask/dask/__init__.py\n",
      "Distributed: /home/nfs/bzaitlen/GitRepos/distributed/distributed/__init__.py\n"
     ]
    }
   ],
   "source": [
    "print(f'Dask: {dask.__file__}')\n",
    "print(f'Distributed: {distributed.__file__}')"
   ]
  },
  {
   "cell_type": "code",
   "execution_count": 5,
   "metadata": {},
   "outputs": [
    {
     "data": {
      "text/html": [
       "<table style=\"border: 2px solid white;\">\n",
       "<tr>\n",
       "<td style=\"vertical-align: top; border: 0px solid white\">\n",
       "<h3 style=\"text-align: left;\">Client</h3>\n",
       "<ul style=\"text-align: left; list-style: none; margin: 0; padding: 0;\">\n",
       "  <li><b>Scheduler: </b>ucx://10.33.225.165:8986</li>\n",
       "  <li><b>Dashboard: </b><a href='http://10.33.225.165:8787/status' target='_blank'>http://10.33.225.165:8787/status</a>\n",
       "</ul>\n",
       "</td>\n",
       "<td style=\"vertical-align: top; border: 0px solid white\">\n",
       "<h3 style=\"text-align: left;\">Cluster</h3>\n",
       "<ul style=\"text-align: left; list-style:none; margin: 0; padding: 0;\">\n",
       "  <li><b>Workers: </b>2</li>\n",
       "  <li><b>Cores: </b>2</li>\n",
       "  <li><b>Memory: </b>64.00 GB</li>\n",
       "</ul>\n",
       "</td>\n",
       "</tr>\n",
       "</table>"
      ],
      "text/plain": [
       "<Client: 'ucx://10.33.225.185:8986' processes=2 threads=2, memory=64.00 GB>"
      ]
     },
     "execution_count": 5,
     "metadata": {},
     "output_type": "execute_result"
    }
   ],
   "source": [
    "from dask.distributed import Client, wait\n",
    "# from dask_cuda import DGX\n",
    "\n",
    "#cluster = DGX(CUDA_VISIBLE_DEVICES=[2,3], \n",
    "#              dashboard_address='10.33.227.165:8789')\n",
    "#client = Client(cluster)\n",
    "client = Client('ucx://10.33.225.165:8986')\n",
    "client"
   ]
  },
  {
   "cell_type": "code",
   "execution_count": 6,
   "metadata": {},
   "outputs": [],
   "source": [
    "import sys, os"
   ]
  },
  {
   "cell_type": "code",
   "execution_count": 7,
   "metadata": {},
   "outputs": [],
   "source": [
    "path = os.getcwd()"
   ]
  },
  {
   "cell_type": "code",
   "execution_count": 8,
   "metadata": {},
   "outputs": [],
   "source": [
    "# You can add it to your global config with the following yaml\n",
    "#     distributed:\n",
    "#       worker:\n",
    "#         preload:\n",
    "#           - dask_cuda.initialize_context\n",
    "def set_nb_context():\n",
    "    import numba.cuda\n",
    "    try:\n",
    "        numba.cuda.current_context()\n",
    "    except Exception:\n",
    "        print(\"FAILED EXCEPTION!\")"
   ]
  },
  {
   "cell_type": "code",
   "execution_count": 9,
   "metadata": {},
   "outputs": [
    {
     "data": {
      "text/plain": [
       "{'ucx://10.33.225.185:41973': None, 'ucx://10.33.225.185:50389': None}"
      ]
     },
     "execution_count": 9,
     "metadata": {},
     "output_type": "execute_result"
    }
   ],
   "source": [
    "client.run(set_nb_context)"
   ]
  },
  {
   "cell_type": "code",
   "execution_count": 10,
   "metadata": {},
   "outputs": [],
   "source": [
    "def set_os(path):\n",
    "    import sys\n",
    "    sys.path.append(path)\n",
    "    return sys.path"
   ]
  },
  {
   "cell_type": "code",
   "execution_count": 11,
   "metadata": {},
   "outputs": [
    {
     "data": {
      "text/plain": [
       "{'ucx://10.33.225.185:41973': ['/home/nfs/bzaitlen/worker-ybgzhgnf',\n",
       "  '/home/nfs/bzaitlen/miniconda3/envs/cudf-dev/bin',\n",
       "  '/home/nfs/bzaitlen/miniconda3/envs/cudf-dev/lib/python37.zip',\n",
       "  '/home/nfs/bzaitlen/miniconda3/envs/cudf-dev/lib/python3.7',\n",
       "  '/home/nfs/bzaitlen/miniconda3/envs/cudf-dev/lib/python3.7/lib-dynload',\n",
       "  '/home/nfs/bzaitlen/.local/lib/python3.7/site-packages',\n",
       "  '/home/nfs/bzaitlen/miniconda3/envs/cudf-dev/lib/python3.7/site-packages',\n",
       "  '/home/nfs/bzaitlen/miniconda3/envs/cudf-dev/lib/python3.7/site-packages/nvstrings_cudaunknown-0.0.0.dev0-py3.7-linux-x86_64.egg',\n",
       "  '/home/nfs/bzaitlen/GitRepos/cudf/python/cudf',\n",
       "  '/home/nfs/bzaitlen/GitRepos/cudf/python/dask_cudf',\n",
       "  '/home/nfs/bzaitlen/GitRepos/distributed',\n",
       "  '/home/nfs/bzaitlen/GitRepos/dask',\n",
       "  '/home/nfs/bzaitlen/GitRepos/dask-ml',\n",
       "  '/home/nfs/bzaitlen/GitRepos/dask-cuda',\n",
       "  '/home/nfs/bzaitlen/GitRepos/ucx-py',\n",
       "  '/home/nfs/bzaitlen/GitRepos/pynvml',\n",
       "  '/home/nfs/bzaitlen/GitRepos/cudf-ucx-fail-scripts'],\n",
       " 'ucx://10.33.225.185:50389': ['/home/nfs/bzaitlen/worker-zlu982wr',\n",
       "  '/home/nfs/bzaitlen/miniconda3/envs/cudf-dev/bin',\n",
       "  '/home/nfs/bzaitlen/miniconda3/envs/cudf-dev/lib/python37.zip',\n",
       "  '/home/nfs/bzaitlen/miniconda3/envs/cudf-dev/lib/python3.7',\n",
       "  '/home/nfs/bzaitlen/miniconda3/envs/cudf-dev/lib/python3.7/lib-dynload',\n",
       "  '/home/nfs/bzaitlen/.local/lib/python3.7/site-packages',\n",
       "  '/home/nfs/bzaitlen/miniconda3/envs/cudf-dev/lib/python3.7/site-packages',\n",
       "  '/home/nfs/bzaitlen/miniconda3/envs/cudf-dev/lib/python3.7/site-packages/nvstrings_cudaunknown-0.0.0.dev0-py3.7-linux-x86_64.egg',\n",
       "  '/home/nfs/bzaitlen/GitRepos/cudf/python/cudf',\n",
       "  '/home/nfs/bzaitlen/GitRepos/cudf/python/dask_cudf',\n",
       "  '/home/nfs/bzaitlen/GitRepos/distributed',\n",
       "  '/home/nfs/bzaitlen/GitRepos/dask',\n",
       "  '/home/nfs/bzaitlen/GitRepos/dask-ml',\n",
       "  '/home/nfs/bzaitlen/GitRepos/dask-cuda',\n",
       "  '/home/nfs/bzaitlen/GitRepos/ucx-py',\n",
       "  '/home/nfs/bzaitlen/GitRepos/pynvml',\n",
       "  '/home/nfs/bzaitlen/GitRepos/cudf-ucx-fail-scripts']}"
      ]
     },
     "execution_count": 11,
     "metadata": {},
     "output_type": "execute_result"
    }
   ],
   "source": [
    "client.run(set_os, path)"
   ]
  },
  {
   "cell_type": "code",
   "execution_count": 30,
   "metadata": {},
   "outputs": [
    {
     "name": "stdout",
     "output_type": "stream",
     "text": [
      "[1 2 3] [array([    0,     1,     2, ..., 99997, 99998, 99999])] <class 'cupy.core.core.ndarray'>\n"
     ]
    }
   ],
   "source": [
    "from dummy import DummyColumn\n",
    "d = DummyColumn()\n",
    "h, f = d.serialize()\n",
    "print(d.deserialize(h, f), f, type(f[0]))"
   ]
  },
  {
   "cell_type": "code",
   "execution_count": 14,
   "metadata": {},
   "outputs": [],
   "source": [
    "worker_1, worker_2 = client.scheduler_info()['workers']"
   ]
  },
  {
   "cell_type": "code",
   "execution_count": 31,
   "metadata": {},
   "outputs": [],
   "source": [
    "from dask.distributed import wait\n",
    "import operator\n",
    "\n",
    "left = client.map(lambda x: DummyColumn(), range(10000), workers=[worker_1])\n",
    "right = client.map(lambda x: DummyColumn(), range(10000), workers=[worker_2])\n",
    "results = client.map(lambda x,y: (x,y), left, right)\n",
    "_ = wait(results)"
   ]
  },
  {
   "cell_type": "code",
   "execution_count": null,
   "metadata": {},
   "outputs": [],
   "source": [
    "results[0].result()"
   ]
  },
  {
   "cell_type": "code",
   "execution_count": 28,
   "metadata": {},
   "outputs": [],
   "source": [
    "import cudf\n",
    "import numpy as np\n",
    "import cupy"
   ]
  },
  {
   "cell_type": "code",
   "execution_count": 34,
   "metadata": {},
   "outputs": [],
   "source": [
    "from dask.distributed import wait\n",
    "import operator\n",
    "\n",
    "left = client.map(lambda x: cupy.asarray(np.arange(100000)), range(10), workers=[worker_1])\n",
    "right = client.map(lambda x: cupy.asarray(np.arange(100000)), range(10), workers=[worker_2])\n",
    "results = client.map(lambda x,y: (x,y), left, right, priority=10)\n",
    "_ = wait(results)"
   ]
  },
  {
   "cell_type": "code",
   "execution_count": 21,
   "metadata": {},
   "outputs": [
    {
     "data": {
      "text/html": [
       "<table style=\"border: 2px solid white;\">\n",
       "<tr>\n",
       "<td style=\"vertical-align: top; border: 0px solid white\">\n",
       "<h3 style=\"text-align: left;\">Client</h3>\n",
       "<ul style=\"text-align: left; list-style: none; margin: 0; padding: 0;\">\n",
       "  <li><b>Scheduler: </b>ucx://10.33.225.165:8986</li>\n",
       "  <li><b>Dashboard: </b><a href='http://10.33.225.165:8787/status' target='_blank'>http://10.33.225.165:8787/status</a>\n",
       "</ul>\n",
       "</td>\n",
       "<td style=\"vertical-align: top; border: 0px solid white\">\n",
       "<h3 style=\"text-align: left;\">Cluster</h3>\n",
       "<ul style=\"text-align: left; list-style:none; margin: 0; padding: 0;\">\n",
       "  <li><b>Workers: </b>2</li>\n",
       "  <li><b>Cores: </b>2</li>\n",
       "  <li><b>Memory: </b>64.00 GB</li>\n",
       "</ul>\n",
       "</td>\n",
       "</tr>\n",
       "</table>"
      ],
      "text/plain": [
       "<Client: 'ucx://10.33.225.185:8986' processes=2 threads=2, memory=64.00 GB>"
      ]
     },
     "execution_count": 21,
     "metadata": {},
     "output_type": "execute_result"
    }
   ],
   "source": [
    "client"
   ]
  },
  {
   "cell_type": "code",
   "execution_count": 22,
   "metadata": {},
   "outputs": [
    {
     "data": {
      "text/plain": [
       "2"
      ]
     },
     "execution_count": 22,
     "metadata": {},
     "output_type": "execute_result"
    }
   ],
   "source": [
    "1+1"
   ]
  },
  {
   "cell_type": "code",
   "execution_count": null,
   "metadata": {},
   "outputs": [],
   "source": []
  }
 ],
 "metadata": {
  "kernelspec": {
   "display_name": "Python [conda env:cudf-dev]",
   "language": "python",
   "name": "conda-env-cudf-dev-py"
  },
  "language_info": {
   "codemirror_mode": {
    "name": "ipython",
    "version": 3
   },
   "file_extension": ".py",
   "mimetype": "text/x-python",
   "name": "python",
   "nbconvert_exporter": "python",
   "pygments_lexer": "ipython3",
   "version": "3.7.3"
  }
 },
 "nbformat": 4,
 "nbformat_minor": 4
}
